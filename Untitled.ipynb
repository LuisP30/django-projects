{
 "cells": [
  {
   "cell_type": "code",
   "execution_count": 1,
   "id": "51848d9f-3441-4c0b-9c71-c9a0fc7dec12",
   "metadata": {},
   "outputs": [
    {
     "name": "stdout",
     "output_type": "stream",
     "text": [
      "Luis Henrique\n"
     ]
    }
   ],
   "source": [
    "nome = 'Luis Henrique'\n",
    "print(nome)"
   ]
  },
  {
   "cell_type": "code",
   "execution_count": 2,
   "id": "4dc0602f-1ace-4a52-88df-74caa9c34197",
   "metadata": {},
   "outputs": [
    {
     "name": "stdout",
     "output_type": "stream",
     "text": [
      "Nome salvo: Luis Henrique\n"
     ]
    }
   ],
   "source": [
    "print('Nome salvo:', nome)"
   ]
  },
  {
   "cell_type": "code",
   "execution_count": 3,
   "id": "12bcfb15-820d-469d-b516-c48114ca250c",
   "metadata": {},
   "outputs": [],
   "source": [
    "# Tipos de dados Python\n",
    "idade = 20\n",
    "nota = 7.7\n",
    "nome = 'Luis Henrique'\n",
    "acertou = True"
   ]
  },
  {
   "cell_type": "code",
   "execution_count": 4,
   "id": "38c699ee-f082-4b7f-923b-9c08631dc2ed",
   "metadata": {},
   "outputs": [],
   "source": [
    "# Lista de Dados\n",
    "# Estrutura que armazena vários valores ao mesmo tempo.\n",
    "lista_1 = [5, 2, 1, -2]\n",
    "lista_2 = [5.2, 1.4, 4.0, 8.4]\n",
    "lista_3 = ['nota1', 'nota2']\n",
    "lista_4 = [True, False, True]\n",
    "lista_5 = [1, 'nota1', 4.2, True]"
   ]
  },
  {
   "cell_type": "code",
   "execution_count": 5,
   "id": "f79b3921-8365-48c2-83de-428a2c46a971",
   "metadata": {},
   "outputs": [
    {
     "name": "stdout",
     "output_type": "stream",
     "text": [
      "nota1\n"
     ]
    }
   ],
   "source": [
    "# A lista a seguir tem 4 elementos, vai da posição 0 até 3\n",
    "lista_5 = [1, 'nota1', 4.2, True]\n",
    "print(lista_5[1])"
   ]
  },
  {
   "cell_type": "code",
   "execution_count": null,
   "id": "b384b855-d2f5-469c-a819-affc3adbd705",
   "metadata": {},
   "outputs": [],
   "source": []
  }
 ],
 "metadata": {
  "kernelspec": {
   "display_name": "Python 3 (ipykernel)",
   "language": "python",
   "name": "python3"
  },
  "language_info": {
   "codemirror_mode": {
    "name": "ipython",
    "version": 3
   },
   "file_extension": ".py",
   "mimetype": "text/x-python",
   "name": "python",
   "nbconvert_exporter": "python",
   "pygments_lexer": "ipython3",
   "version": "3.10.4"
  }
 },
 "nbformat": 4,
 "nbformat_minor": 5
}
