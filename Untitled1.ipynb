{
 "cells": [
  {
   "cell_type": "code",
   "execution_count": 1,
   "id": "e60972cb-32db-4c0f-be9c-456f459ded19",
   "metadata": {},
   "outputs": [
    {
     "name": "stdout",
     "output_type": "stream",
     "text": [
      "lightning-rod\n"
     ]
    }
   ],
   "source": [
    "import requests\n",
    "\n",
    "url = 'https://pokeapi.co/api/v2/pokemon/pikachu'\n",
    "\n",
    "r = requests.get(url)\n",
    "\n",
    "dicionario = r.json()\n",
    "\n",
    "print(dicionario['abilities'][1]['ability']['name'])"
   ]
  },
  {
   "cell_type": "code",
   "execution_count": 15,
   "id": "142c909f-4c3f-470c-aa1b-e78d26dc8546",
   "metadata": {},
   "outputs": [
    {
     "name": "stdout",
     "output_type": "stream",
     "text": [
      "Cidade: Tibau do Sul \n",
      "CEP: 59179-000 \n",
      "DDD: 84\n"
     ]
    }
   ],
   "source": [
    "import requests\n",
    "\n",
    "url = 'https://viacep.com.br/ws/59179000/json/'\n",
    "\n",
    "r = requests.get(url)\n",
    "\n",
    "dicionario = r.json()\n",
    "\n",
    "print('Cidade:', dicionario['localidade'],'\\nCEP:', dicionario['cep'], '\\nDDD:', dicionario['ddd'])"
   ]
  },
  {
   "cell_type": "code",
   "execution_count": null,
   "id": "7a1256aa-3e78-4824-9c28-d3f5c2258ca0",
   "metadata": {},
   "outputs": [],
   "source": []
  }
 ],
 "metadata": {
  "kernelspec": {
   "display_name": "Python 3 (ipykernel)",
   "language": "python",
   "name": "python3"
  },
  "language_info": {
   "codemirror_mode": {
    "name": "ipython",
    "version": 3
   },
   "file_extension": ".py",
   "mimetype": "text/x-python",
   "name": "python",
   "nbconvert_exporter": "python",
   "pygments_lexer": "ipython3",
   "version": "3.10.4"
  }
 },
 "nbformat": 4,
 "nbformat_minor": 5
}
